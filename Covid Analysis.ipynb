{
 "cells": [
  {
   "cell_type": "code",
   "execution_count": 1,
   "metadata": {},
   "outputs": [],
   "source": [
    "# import dependencies \n",
    "import pandas as pd\n",
    "import matplotlib.pyplot as plt\n",
    "import numpy as np\n",
    "import scipy.stats as sts \n",
    "from scipy.stats import linregress\n",
    "import json\n",
    "import requests"
   ]
  },
  {
   "cell_type": "code",
   "execution_count": null,
   "metadata": {},
   "outputs": [],
   "source": [
    "# Load data \n",
    "confirmed_xl = 'Resources/tx_confirmed.xlsx'\n",
    "fatalities_xl = 'Resources/tx_fatalities.xlsx'\n",
    "county_popn_csv = 'Resources/Population Estimates by County.csv'\n",
    "\n",
    "# APIs - documentation in resources folder\n",
    "hospital_cap_url = 'https://opendata.arcgis.com/datasets/1044bb19da8d4dbfb6a96eb1b4ebf629_0.geojson'\n",
    "nursing_homes_url = 'https://data.cms.gov/resource/s2uc-8wxp.json'# requires login and maybe sodapy ?\n",
    "deaths_county_race = 'https://data.cdc.gov/api/views/k8wy-p9cg'\n",
    "excess_death_comparisons = 'https://data.cdc.gov/api/views/m74n-4hbs'\n",
    "tx_65_url = 'https://data.texas.gov/resource/qjby-4sji.json?'\n",
    "\n",
    "# Save in dataframe \n",
    "confirmed_tx = pd.read_excel(confirmed_xl)\n",
    "fatalities_tx = pd.read_excel(fatalities_xl)\n",
    "county_popn = pd.read_csv(county_popn_csv)"
   ]
  },
  {
   "cell_type": "code",
   "execution_count": null,
   "metadata": {},
   "outputs": [],
   "source": [
    "# Drop null rows \n",
    "confirmed_tx = confirmed_tx.drop([254, 255])\n",
    "\n",
    "# View data\n",
    "confirmed_tx"
   ]
  },
  {
   "cell_type": "code",
   "execution_count": null,
   "metadata": {
    "scrolled": false
   },
   "outputs": [],
   "source": [
    "# Clean up: Delete last row (avoid totaling the total count) / null values & running total columns\n",
    "fatalities_tx = fatalities_tx[['County Name','Fatalities 02-02-2021']].drop([254,255])\n",
    "\n",
    "# View data (* data is a running total not additional fatalities per day)\n",
    "fatalities_tx"
   ]
  },
  {
   "cell_type": "code",
   "execution_count": null,
   "metadata": {},
   "outputs": [],
   "source": [
    "# Get total for each county \n",
    "confirmed_tx['Total Confirmed'] = confirmed_tx.sum(axis=1)\n",
    "\n",
    "# Select only county and total columns \n",
    "confirmed_tx = confirmed_tx[['County', 'Total Confirmed']]\n",
    "\n",
    "# View \n",
    "confirmed_tx"
   ]
  },
  {
   "cell_type": "code",
   "execution_count": null,
   "metadata": {},
   "outputs": [],
   "source": [
    "# Match indices to merge \n",
    "confirmed_tx = pd.DataFrame(confirmed_tx) # Avoid deprecation warning \n",
    "fatalities_tx = pd.DataFrame(fatalities_tx) \n",
    "\n",
    "# Reformat to match columns \n",
    "confirmed_tx['County'] = confirmed_tx['County'].str.title()\n",
    "fatalities_tx['County Name'] = fatalities_tx['County Name'].str.title()\n",
    "fatalities_tx = fatalities_tx.rename(columns={'County Name': 'County'})\n",
    "\n",
    "# Merge dataframes\n",
    "summary_cases = pd.merge(confirmed_tx, fatalities_tx, on='County')\n",
    "summary_cases.head()\n"
   ]
  },
  {
   "cell_type": "code",
   "execution_count": null,
   "metadata": {},
   "outputs": [],
   "source": [
    "## Summary table: add death rate and proportion 65+\n",
    "\n",
    "# Calculate death rate \n",
    "total_cases = summary_cases['Total Confirmed']\n",
    "total_fatalities = summary_cases['Fatalities 02-02-2021']\n",
    "summary_cases['% Fatal'] = total_fatalities / total_cases * 100\n",
    "\n",
    "# Add 65+ population \n",
    "county_list = summary_cases['County']\n",
    "\n",
    "# Reformat county data: remove ', TX' and reformat to titlecase \n",
    "\n",
    "\n",
    "# Create empty lists \n",
    "county_names = []\n",
    "\n",
    "# Loop through county list and get 65+ population and county population \n",
    "#for county in county_list:\n",
    "    \n",
    "\n",
    "summary_cases"
   ]
  },
  {
   "cell_type": "code",
   "execution_count": null,
   "metadata": {},
   "outputs": [],
   "source": [
    "# Print counties with highest fatality rate \n",
    "highest_fatality = summary_cases.sort_values('% Fatal', ascending=False, ignore_index=True)\n",
    "highest_fatality = highest_fatality.head(10)\n",
    "\n",
    "# View dataframe\n",
    "highest_fatality\n"
   ]
  },
  {
   "cell_type": "code",
   "execution_count": null,
   "metadata": {},
   "outputs": [],
   "source": [
    "summary_cases['% 65+'] =''\n",
    "summary_cases"
   ]
  },
  {
   "cell_type": "code",
   "execution_count": null,
   "metadata": {},
   "outputs": [],
   "source": [
    "# Fix county names (API is case sensitive)\n",
    "summary_cases = summary_cases.replace({'Mcculloch': 'McCulloch',\n",
    "                                       'Mclennan': 'McLennan',\n",
    "                                       'Mcmullen': 'McMullen'})"
   ]
  },
  {
   "cell_type": "code",
   "execution_count": null,
   "metadata": {
    "scrolled": false
   },
   "outputs": [],
   "source": [
    "tx_65_url = 'https://data.texas.gov/resource/qjby-4sji.json?'\n",
    "#counter = 0\n",
    "county_list = []\n",
    "county_sixty_five = []\n",
    "missing_info = []\n",
    "\n",
    "for i, row in summary_cases.iterrows():\n",
    "    \n",
    "    county = row[0]\n",
    "    \n",
    "    query_url = tx_65_url + 'county=' + county\n",
    "    response = requests.get(query_url).json()\n",
    "        \n",
    "    try: \n",
    "        over_65 = response[0]['_65_and_older_of_population']\n",
    "        summary_cases.loc[i, '% 65+'] = over_65\n",
    "    \n",
    "        county_name = response[0]['county']\n",
    "        county_list.append(county_name)\n",
    "    except (KeyError, IndexError):\n",
    "        print(f'Missing information for {county}')\n",
    "        pass\n",
    "    \n",
    "    #counter +=1\n",
    "    #if counter > 5:\n",
    "        #break\n",
    "    \n",
    "#print(json.dumps(response, sort_keys=True, indent=4))\n",
    "summary_cases"
   ]
  },
  {
   "cell_type": "code",
   "execution_count": null,
   "metadata": {},
   "outputs": [],
   "source": [
    "# Build scatterplot\n",
    "\n",
    "# Get x and y values\n",
    "\n",
    "# Add to scatterplot\n"
   ]
  },
  {
   "cell_type": "code",
   "execution_count": null,
   "metadata": {},
   "outputs": [],
   "source": [
    "\n"
   ]
  },
  {
   "cell_type": "code",
   "execution_count": null,
   "metadata": {},
   "outputs": [],
   "source": [
    "\n"
   ]
  }
 ],
 "metadata": {
  "kernelspec": {
   "display_name": "Python 3",
   "language": "python",
   "name": "python3"
  },
  "language_info": {
   "codemirror_mode": {
    "name": "ipython",
    "version": 3
   },
   "file_extension": ".py",
   "mimetype": "text/x-python",
   "name": "python",
   "nbconvert_exporter": "python",
   "pygments_lexer": "ipython3",
   "version": "3.8.5"
  }
 },
 "nbformat": 4,
 "nbformat_minor": 4
}
